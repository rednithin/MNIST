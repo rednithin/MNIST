{
 "cells": [
  {
   "cell_type": "code",
   "execution_count": 39,
   "metadata": {},
   "outputs": [],
   "source": [
    "import torch\n",
    "from torch import nn\n",
    "from torch.autograd import Variable\n",
    "import matplotlib.pyplot as plt"
   ]
  },
  {
   "cell_type": "code",
   "execution_count": 40,
   "metadata": {},
   "outputs": [],
   "source": [
    "# Create a model class\n",
    "class LinearRegressionModel(nn.Module):\n",
    "    def __init__(self, input_dim, output_dim):\n",
    "        super(LinearRegressionModel, self).__init__()\n",
    "        self.linear = nn.Linear(input_dim, output_dim)\n",
    "    \n",
    "    def forward(self, x):\n",
    "        out =  self.linear(x)\n",
    "        return out"
   ]
  },
  {
   "cell_type": "code",
   "execution_count": 41,
   "metadata": {},
   "outputs": [],
   "source": [
    "input_dim = 1\n",
    "output_dim = 1\n",
    "\n",
    "model = LinearRegressionModel(input_dim, output_dim)"
   ]
  },
  {
   "cell_type": "code",
   "execution_count": 42,
   "metadata": {},
   "outputs": [],
   "source": [
    "# Create a loss class\n",
    "criterion = nn.MSELoss()"
   ]
  },
  {
   "cell_type": "code",
   "execution_count": 43,
   "metadata": {},
   "outputs": [],
   "source": [
    "# Create an optimizer class\n",
    "learning_rate = 0.001\n",
    "\n",
    "optimizer = torch.optim.SGD(model.parameters(), lr=learning_rate)"
   ]
  },
  {
   "cell_type": "code",
   "execution_count": 44,
   "metadata": {},
   "outputs": [
    {
     "data": {
      "text/plain": [
       "tensor([[  0.],\n",
       "        [  1.],\n",
       "        [  2.],\n",
       "        [  3.],\n",
       "        [  4.],\n",
       "        [  5.],\n",
       "        [  6.],\n",
       "        [  7.],\n",
       "        [  8.],\n",
       "        [  9.],\n",
       "        [ 10.]])"
      ]
     },
     "execution_count": 44,
     "metadata": {},
     "output_type": "execute_result"
    }
   ],
   "source": [
    "x = Variable(torch.Tensor([[x] for x in range(11)]))\n",
    "x"
   ]
  },
  {
   "cell_type": "code",
   "execution_count": 45,
   "metadata": {},
   "outputs": [
    {
     "data": {
      "text/plain": [
       "tensor([[  1.],\n",
       "        [  3.],\n",
       "        [  5.],\n",
       "        [  7.],\n",
       "        [  9.],\n",
       "        [ 11.],\n",
       "        [ 13.],\n",
       "        [ 15.],\n",
       "        [ 17.],\n",
       "        [ 19.],\n",
       "        [ 21.]])"
      ]
     },
     "execution_count": 45,
     "metadata": {},
     "output_type": "execute_result"
    }
   ],
   "source": [
    "y = Variable(torch.Tensor([[(2 * x + 1)] for x in range(11)]))\n",
    "y"
   ]
  },
  {
   "cell_type": "code",
   "execution_count": 46,
   "metadata": {},
   "outputs": [
    {
     "name": "stdout",
     "output_type": "stream",
     "text": [
      "Epoch 1, Loss 287.0839538574219\n",
      "Epoch 2, Loss 247.53060913085938\n",
      "Epoch 3, Loss 213.4267578125\n",
      "Epoch 4, Loss 184.02162170410156\n",
      "Epoch 5, Loss 158.6678009033203\n",
      "Epoch 6, Loss 136.80714416503906\n",
      "Epoch 7, Loss 117.9583969116211\n",
      "Epoch 8, Loss 101.70654296875\n",
      "Epoch 9, Loss 87.6938247680664\n",
      "Epoch 10, Loss 75.61172485351562\n",
      "Epoch 11, Loss 65.19424438476562\n",
      "Epoch 12, Loss 56.212059020996094\n",
      "Epoch 13, Loss 48.4673957824707\n",
      "Epoch 14, Loss 41.78977966308594\n",
      "Epoch 15, Loss 36.03217697143555\n",
      "Epoch 16, Loss 31.067838668823242\n",
      "Epoch 17, Loss 26.787473678588867\n",
      "Epoch 18, Loss 23.096834182739258\n",
      "Epoch 19, Loss 19.914676666259766\n",
      "Epoch 20, Loss 17.17095184326172\n",
      "Epoch 21, Loss 14.805240631103516\n",
      "Epoch 22, Loss 12.765475273132324\n",
      "Epoch 23, Loss 11.00674057006836\n",
      "Epoch 24, Loss 9.490316390991211\n",
      "Epoch 25, Loss 8.182819366455078\n",
      "Epoch 26, Loss 7.05546760559082\n",
      "Epoch 27, Loss 6.083433628082275\n",
      "Epoch 28, Loss 5.245326042175293\n",
      "Epoch 29, Loss 4.522689342498779\n",
      "Epoch 30, Loss 3.899614095687866\n",
      "Epoch 31, Loss 3.362384080886841\n",
      "Epoch 32, Loss 2.8991715908050537\n",
      "Epoch 33, Loss 2.499778985977173\n",
      "Epoch 34, Loss 2.1554160118103027\n",
      "Epoch 35, Loss 1.8584964275360107\n",
      "Epoch 36, Loss 1.6024837493896484\n",
      "Epoch 37, Loss 1.3817440271377563\n",
      "Epoch 38, Loss 1.1914180517196655\n",
      "Epoch 39, Loss 1.0273150205612183\n",
      "Epoch 40, Loss 0.8858203887939453\n",
      "Epoch 41, Loss 0.7638207077980042\n",
      "Epoch 42, Loss 0.6586298942565918\n",
      "Epoch 43, Loss 0.5679309368133545\n",
      "Epoch 44, Loss 0.48972922563552856\n",
      "Epoch 45, Loss 0.42230138182640076\n",
      "Epoch 46, Loss 0.36416321992874146\n",
      "Epoch 47, Loss 0.31403449177742004\n",
      "Epoch 48, Loss 0.2708131968975067\n",
      "Epoch 49, Loss 0.23354597389698029\n",
      "Epoch 50, Loss 0.20141415297985077\n",
      "Epoch 51, Loss 0.1737084537744522\n",
      "Epoch 52, Loss 0.14981983602046967\n",
      "Epoch 53, Loss 0.12922310829162598\n",
      "Epoch 54, Loss 0.11146364361047745\n",
      "Epoch 55, Loss 0.09615100175142288\n",
      "Epoch 56, Loss 0.08294839411973953\n",
      "Epoch 57, Loss 0.07156436890363693\n",
      "Epoch 58, Loss 0.061748966574668884\n",
      "Epoch 59, Loss 0.05328571796417236\n",
      "Epoch 60, Loss 0.04598867520689964\n",
      "Epoch 61, Loss 0.03969676420092583\n",
      "Epoch 62, Loss 0.03427157923579216\n",
      "Epoch 63, Loss 0.02959413453936577\n",
      "Epoch 64, Loss 0.025560874491930008\n",
      "Epoch 65, Loss 0.022083168849349022\n",
      "Epoch 66, Loss 0.01908467896282673\n",
      "Epoch 67, Loss 0.016499243676662445\n",
      "Epoch 68, Loss 0.014270029030740261\n",
      "Epoch 69, Loss 0.012347836047410965\n",
      "Epoch 70, Loss 0.01069047674536705\n",
      "Epoch 71, Loss 0.009261365979909897\n",
      "Epoch 72, Loss 0.008029124699532986\n",
      "Epoch 73, Loss 0.006966494023799896\n",
      "Epoch 74, Loss 0.006050341296941042\n",
      "Epoch 75, Loss 0.005260427948087454\n",
      "Epoch 76, Loss 0.004579164553433657\n",
      "Epoch 77, Loss 0.003991724923253059\n",
      "Epoch 78, Loss 0.003485200461000204\n",
      "Epoch 79, Loss 0.0030483973678201437\n",
      "Epoch 80, Loss 0.002671729540452361\n",
      "Epoch 81, Loss 0.0023469366133213043\n",
      "Epoch 82, Loss 0.002066788962110877\n",
      "Epoch 83, Loss 0.0018252391600981355\n",
      "Epoch 84, Loss 0.0016168857691809535\n",
      "Epoch 85, Loss 0.0014371998840942979\n",
      "Epoch 86, Loss 0.0012822315329685807\n",
      "Epoch 87, Loss 0.0011485577560961246\n",
      "Epoch 88, Loss 0.0010332711972296238\n",
      "Epoch 89, Loss 0.000933805713430047\n",
      "Epoch 90, Loss 0.0008479835814796388\n",
      "Epoch 91, Loss 0.0007739452412351966\n",
      "Epoch 92, Loss 0.0007100396323949099\n",
      "Epoch 93, Loss 0.0006549360696226358\n",
      "Epoch 94, Loss 0.000607354857493192\n",
      "Epoch 95, Loss 0.0005662643816322088\n",
      "Epoch 96, Loss 0.0005307769752107561\n",
      "Epoch 97, Loss 0.0005001768586225808\n",
      "Epoch 98, Loss 0.0004737460985779762\n",
      "Epoch 99, Loss 0.00045088521437719464\n",
      "Epoch 100, Loss 0.00043113899300806224\n"
     ]
    }
   ],
   "source": [
    "for epoch in range(1,101):\n",
    "    optimizer.zero_grad()\n",
    "    outputs = model(x)\n",
    "    loss = criterion(outputs, y)\n",
    "    loss.backward()\n",
    "    optimizer.step()\n",
    "    print('Epoch {0}, Loss {1}'.format(epoch, loss.item()))"
   ]
  },
  {
   "cell_type": "code",
   "execution_count": 47,
   "metadata": {},
   "outputs": [
    {
     "data": {
      "text/plain": [
       "tensor([[  1.0327],\n",
       "        [  3.0262],\n",
       "        [  5.0198],\n",
       "        [  7.0134],\n",
       "        [  9.0069],\n",
       "        [ 11.0005],\n",
       "        [ 12.9941],\n",
       "        [ 14.9876],\n",
       "        [ 16.9812],\n",
       "        [ 18.9748],\n",
       "        [ 20.9683]])"
      ]
     },
     "execution_count": 47,
     "metadata": {},
     "output_type": "execute_result"
    }
   ],
   "source": [
    "predicted = model(x).data\n",
    "predicted"
   ]
  },
  {
   "cell_type": "code",
   "execution_count": 48,
   "metadata": {},
   "outputs": [
    {
     "data": {
      "image/png": "[encoded data removed]",
      "text/plain": [
       "<Figure size 432x288 with 1 Axes>"
      ]
     },
     "metadata": {},
     "output_type": "display_data"
    }
   ],
   "source": [
    "# Clear Figure\n",
    "plt.clf()\n",
    "plt.plot(x.numpy(), y.numpy(), 'ro', label=\"True Data\", alpha=0.5)\n",
    "plt.plot(x.numpy(), predicted.numpy(), 'g--', label=\"Predicted Data\", alpha=0.5)\n",
    "plt.legend(loc=\"best\")\n",
    "plt.show()"
   ]
  },
  {
   "cell_type": "code",
   "execution_count": 49,
   "metadata": {},
   "outputs": [],
   "source": [
    "torch.save(model.state_dict(), 'LinearRegression.pkl')"
   ]
  },
  {
   "cell_type": "code",
   "execution_count": 50,
   "metadata": {},
   "outputs": [],
   "source": [
    "model.load_state_dict(torch.load('LinearRegression.pkl'))"
   ]
  }
 ],
 "metadata": {
  "kernelspec": {
   "display_name": "Python 3",
   "language": "python",
   "name": "python3"
  },
  "language_info": {
   "codemirror_mode": {
    "name": "ipython",
    "version": 3
   },
   "file_extension": ".py",
   "mimetype": "text/x-python",
   "name": "python",
   "nbconvert_exporter": "python",
   "pygments_lexer": "ipython3",
   "version": "3.6.5"
  }
 },
 "nbformat": 4,
 "nbformat_minor": 2
}
